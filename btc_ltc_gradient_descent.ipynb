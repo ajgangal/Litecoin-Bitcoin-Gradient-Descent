{
 "cells": [
  {
   "cell_type": "markdown",
   "metadata": {},
   "source": [
    "# Predicting Litecoin prices using Bitcoin historical prices"
   ]
  },
  {
   "cell_type": "markdown",
   "metadata": {},
   "source": [
    "### A Linear Regression approach based on Gradient Descent"
   ]
  },
  {
   "cell_type": "markdown",
   "metadata": {},
   "source": [
    "I was doing some research on Deep Learning, and stumbled upon very interesting concept of Gradient Descent.\n",
    "\n",
    "The following code is an example of how Gradient Descent works to find a Regression line.\n",
    "\n",
    "Quick recap for Linear Regression:\n",
    "The aim of Linear Regression is to find a regression line such that:\n",
    "\n",
    "`y_hat = mx + b`\n",
    "\n",
    "ie. we can **predict the value of y** for any x once we have the variables m and b (the slope and the intercept of the regression line)\n",
    "\n",
    "Gradient Descent is basically a mathematical optimization to reach the local minima of our loss function. It works as follows:\n",
    "\n",
    "1) At every value of the weights, we find the predicted value using that weight. \n",
    "2) Then we find the error using a loss function. In this example, I've used the Mean Squared Error. \n",
    "3) Once we know the error, we tune the weights such that the error is minimized. Our goal is to achieve the minimum error, which is the local minima. (for convex functions, local minima = global minima)\n",
    "4) To know whether to increase or decrease the weight to achieve this minimization, we use partial derivatives. The partial derivative of each parameter gives us a direction in which we need to tune the weights.\n",
    "5) We tune the parameters by changing their values with respect to the values of the partial derivatives.\n",
    "5) The tuning stops once the partial derivative value is 0, that is, local minima is achieved or the most optimal weight is found."
   ]
  },
  {
   "cell_type": "markdown",
   "metadata": {},
   "source": [
    "The model here is used to predict Litecoin prices based on Bitcoin prices.\n",
    "The dataset I've used is from Kaggle, and contains LTC, BTC prices from April 2013 till September 2017.\n",
    "\n",
    "We find a almost 100% positive correlation in the two variables. The intercept b has a miniscule value of -0.00005 with a slope of 0.013, rightly so, since LTC prices are much lower than BTC."
   ]
  },
  {
   "cell_type": "code",
   "execution_count": 1,
   "metadata": {},
   "outputs": [],
   "source": [
    "%matplotlib inline\n",
    "import pandas as pd\n",
    "import numpy as np\n",
    "import matplotlib.pyplot as plt\n",
    "import warnings\n",
    "warnings.simplefilter(action='ignore', category=FutureWarning)"
   ]
  },
  {
   "cell_type": "code",
   "execution_count": 2,
   "metadata": {},
   "outputs": [],
   "source": [
    "def mse(b, m , data):\n",
    "    sumerror = 0\n",
    "    for i in range(0, len(data)):\n",
    "        x = data['btc'][i]\n",
    "        y = data['ltc'][i]\n",
    "        sumerror += (y - (m * x + b)) ** 2\n",
    "    return sumerror / float(len(data))"
   ]
  },
  {
   "cell_type": "code",
   "execution_count": 6,
   "metadata": {},
   "outputs": [],
   "source": [
    "def gradient_descent(b_current, m_current, data, learning_rate):\n",
    "    \n",
    "    b_gradient = 0\n",
    "    m_gradient = 0\n",
    "    N = float(len(data))\n",
    "    \n",
    "    for i in range(0, len(data)):\n",
    "        x = data['btc'][i]\n",
    "        y = data['ltc'][i]\n",
    "        # partial derivative of the rmse of y - y_hat \n",
    "        # where y_hat = m_current * x + b_current\n",
    "        b_gradient += -(2/N) * (y - ((m_current * x) + b_current))\n",
    "        m_gradient += -(2/N) * x * (y - ((m_current * x) + b_current))\n",
    "    \n",
    "    # trying to reach the minima by changing b, m in steps of b_gradient, m_gradient\n",
    "    # learning rate decides how fast / slow we want to fit the model\n",
    "    # here, a learning rate of 0.001 means we descend the gradient in steps of a multiplicative factor of 0.001\n",
    "    b_new = b_current - ((learning_rate/N) * b_gradient)\n",
    "    m_new = m_current - ((learning_rate/N) * m_gradient)\n",
    "    \n",
    "    return [b_new, m_new]"
   ]
  },
  {
   "cell_type": "code",
   "execution_count": 7,
   "metadata": {},
   "outputs": [],
   "source": [
    "def initialize_gradient_descent(b, m, data, learning_rate, iterations):\n",
    "\n",
    "    for i in range(iterations):\n",
    "        b, m = gradient_descent(b, m, data, learning_rate)\n",
    "        if i % 100 == 0:\n",
    "            print \"Values at Iteration {0}: b = {1}, m = {2}, error = {3}\".format(i, b, m, mse(b,m,data))\n",
    "    return [b, m]"
   ]
  },
  {
   "cell_type": "code",
   "execution_count": 8,
   "metadata": {},
   "outputs": [
    {
     "name": "stdout",
     "output_type": "stream",
     "text": [
      "Initial Values: b = 0, m = 0, error = 242.586444624\n",
      "Running...\n",
      "Values at Iteration 0: b = 1.1229855679e-06, m = 0.00191580753682, error = 187.657550605\n",
      "Values at Iteration 100: b = 2.19353670376e-06, m = 0.0137086470412, error = 31.2994935623\n",
      "Values at Iteration 200: b = -4.03165032753e-06, m = 0.0137086543122, error = 31.2994873269\n",
      "Values at Iteration 300: b = -1.0256795393e-05, m = 0.0137086581635, error = 31.2994810916\n",
      "Values at Iteration 400: b = -1.64818963772e-05, m = 0.0137086620147, error = 31.2994748565\n",
      "Values at Iteration 500: b = -2.27069532804e-05, m = 0.0137086658659, error = 31.2994686214\n",
      "Values at Iteration 600: b = -2.89319661031e-05, m = 0.0137086697171, error = 31.2994623864\n",
      "Values at Iteration 700: b = -3.51569348455e-05, m = 0.0137086735683, error = 31.2994561515\n",
      "Values at Iteration 800: b = -4.13818595079e-05, m = 0.0137086774194, error = 31.2994499166\n",
      "Values at Iteration 900: b = -4.76067400906e-05, m = 0.0137086812705, error = 31.2994436819\n",
      "Optimal Values: b = -5.37693284472e-05, m = 0.0137086850831, error = 31.2994375096\n"
     ]
    }
   ],
   "source": [
    "data = pd.read_csv(\"ltcbtc.csv\")\n",
    "data = data[['ltc', 'btc']]\n",
    "\n",
    "# equation of line to be fitted: y = mx + b\n",
    "initial_b = 0\n",
    "initial_m = 0\n",
    "\n",
    "# hyperparameters\n",
    "learning_rate = 0.0001\n",
    "iterations = 1000\n",
    "\n",
    "print \"Initial Values: b = {0}, m = {1}, error = {2}\".format(initial_b, initial_m, mse(initial_b, initial_m, data))\n",
    "print \"Running...\"\n",
    "[b,m] = initialize_gradient_descent(initial_b, initial_m, data, learning_rate, iterations)\n",
    "print \"Optimal Values: b = {0}, m = {1}, error = {2}\".format(b, m, mse(b, m, data))\n"
   ]
  },
  {
   "cell_type": "code",
   "execution_count": 9,
   "metadata": {},
   "outputs": [
    {
     "data": {
      "image/png": "[encoded data removed]",
      "text/plain": [
       "<matplotlib.figure.Figure at 0x10c0f4590>"
      ]
     },
     "metadata": {},
     "output_type": "display_data"
    }
   ],
   "source": [
    "%matplotlib inline\n",
    "x = [i for i in range(0,10001) if i%1000 == 0]\n",
    "y = [i*m for i in range(0,10001) if i%1000 == 0]\n",
    "\n",
    "plt.scatter(data['ltc'], data['btc'], c= 'r', alpha = 0.3, marker = '.')\n",
    "plt.plot(y,x)\n",
    "plt.show()"
   ]
  },
  {
   "cell_type": "markdown",
   "metadata": {},
   "source": [
    "In the graph above, the scatter points are the observed LTC/BTC prices and the blue line is the regression line that we achieved using Gradient Descent."
   ]
  }
 ],
 "metadata": {
  "kernelspec": {
   "display_name": "Python 2",
   "language": "python",
   "name": "python2"
  },
  "language_info": {
   "codemirror_mode": {
    "name": "ipython",
    "version": 2
   },
   "file_extension": ".py",
   "mimetype": "text/x-python",
   "name": "python",
   "nbconvert_exporter": "python",
   "pygments_lexer": "ipython2",
   "version": "2.7.10"
  }
 },
 "nbformat": 4,
 "nbformat_minor": 2
}
